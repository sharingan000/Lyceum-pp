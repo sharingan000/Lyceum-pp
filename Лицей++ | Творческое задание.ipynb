{
 "cells": [
  {
   "cell_type": "markdown",
   "id": "a19a6082",
   "metadata": {},
   "source": [
    "# Подготовка к заданиям."
   ]
  },
  {
   "cell_type": "code",
   "execution_count": 1,
   "id": "b1441801",
   "metadata": {},
   "outputs": [],
   "source": [
    "import pandas as pd\n",
    "import numpy as np\n",
    "import matplotlib.pyplot as plt\n",
    "import os"
   ]
  },
  {
   "cell_type": "code",
   "execution_count": 2,
   "id": "55e20b7a",
   "metadata": {},
   "outputs": [],
   "source": [
    "dataset = pd.read_csv(os.path.join('data', 'titanic.csv')) # Загрузил датасет из файла, который лежит в папке data"
   ]
  },
  {
   "cell_type": "code",
   "execution_count": 3,
   "id": "898f6be6",
   "metadata": {},
   "outputs": [],
   "source": [
    "pd.options.mode.chained_assignment = None # Установил режим, который позвадяет менять элементы датасета без предупреждений"
   ]
  },
  {
   "cell_type": "markdown",
   "id": "f1f56422",
   "metadata": {},
   "source": [
    "## Задание №2."
   ]
  },
  {
   "cell_type": "code",
   "execution_count": 4,
   "id": "c4913bea",
   "metadata": {},
   "outputs": [
    {
     "name": "stdout",
     "output_type": "stream",
     "text": [
      "<class 'pandas.core.frame.DataFrame'>\n",
      "RangeIndex: 891 entries, 0 to 890\n",
      "Data columns (total 15 columns):\n",
      " #   Column       Non-Null Count  Dtype  \n",
      "---  ------       --------------  -----  \n",
      " 0   survived     891 non-null    int64  \n",
      " 1   pclass       891 non-null    int64  \n",
      " 2   sex          891 non-null    object \n",
      " 3   age          714 non-null    float64\n",
      " 4   sibsp        891 non-null    int64  \n",
      " 5   parch        891 non-null    int64  \n",
      " 6   fare         891 non-null    float64\n",
      " 7   embarked     889 non-null    object \n",
      " 8   class        891 non-null    object \n",
      " 9   who          891 non-null    object \n",
      " 10  adult_male   891 non-null    bool   \n",
      " 11  deck         203 non-null    object \n",
      " 12  embark_town  889 non-null    object \n",
      " 13  alive        891 non-null    object \n",
      " 14  alone        891 non-null    bool   \n",
      "dtypes: bool(2), float64(2), int64(4), object(7)\n",
      "memory usage: 92.4+ KB\n"
     ]
    }
   ],
   "source": [
    "dataset.info()"
   ]
  },
  {
   "cell_type": "code",
   "execution_count": 5,
   "id": "49f79f62",
   "metadata": {},
   "outputs": [],
   "source": [
    "N = 891 # Задал константу, которая равна количеству строк в датасете"
   ]
  },
  {
   "cell_type": "markdown",
   "id": "daa238fa",
   "metadata": {},
   "source": [
    "Запустив метод info у датасета можно увидеть, что значения пропущемы в следующих стобцах:\n",
    "1. age (177)\n",
    "2. embarked (2)\n",
    "3. deck (688)\n",
    "4. embark_tpwn (2)\n",
    "\n",
    "Заполним пропущенные ячейки, выбрав для каждого столбца свой способ."
   ]
  },
  {
   "cell_type": "markdown",
   "id": "d9fdc0e6",
   "metadata": {},
   "source": [
    "### 1. age."
   ]
  },
  {
   "cell_type": "markdown",
   "id": "ba753d5d",
   "metadata": {},
   "source": [
    "Так как пропущенных значений в столбце age достаточно много я решил заполнить их не просто средним значением по столбцу, а также связать значения в каждой ячейке с другими из той же строки, по этому:\n",
    "\n",
    "Я создал словарь в котором храниться информация о каждом столбце (не включая age), ключами которого являются сами столбцы, а значения это тоже словари, где ключи это уникальные значения из этого столбца, а значения - среднее арифметическое по тем самым значениям в столбце age"
   ]
  },
  {
   "cell_type": "code",
   "execution_count": 6,
   "id": "3eb6d1dd",
   "metadata": {},
   "outputs": [],
   "source": [
    "json = {}\n",
    "\n",
    "for i in dataset.columns.values:\n",
    "    if i != 'age':\n",
    "        json[i] = {}\n",
    "        s = []\n",
    "        for j in dataset[i].unique():\n",
    "            element = dataset[(dataset[i] == j) & (dataset['age'] != np.nan)]['age'] # Создание ограниченного датасета по двум условиям\n",
    "            # 1. Значение в столбце i = j; 2. значение в t != None\n",
    "            json[i][j] = element.mean()"
   ]
  },
  {
   "cell_type": "code",
   "execution_count": 7,
   "id": "b038257e",
   "metadata": {},
   "outputs": [],
   "source": [
    "for i in range(N):\n",
    "    if pd.isnull(dataset['age'][i]): # Проверка на None\n",
    "        s = 0\n",
    "        n = 0\n",
    "        for j in dataset.columns.values:\n",
    "            if j != 'age':\n",
    "                element = json[j][dataset[j][i]]\n",
    "                if not pd.isnull(element):\n",
    "                    n += 1\n",
    "                    s += element\n",
    "        dataset['age'][i] = s // n # Среднее по каждым столбцам"
   ]
  },
  {
   "cell_type": "markdown",
   "id": "6b9d7148",
   "metadata": {},
   "source": [
    "### 2. dack."
   ]
  },
  {
   "cell_type": "markdown",
   "id": "96cb3858",
   "metadata": {},
   "source": [
    "Изучив датасет и его описание, я понял, что на значения в столбце deck больше всего влияния оказывет цена билета (столбец fare), по этому\n",
    "я создал словарь где каждому уникальному значению из deck я присвоил среднее значение из fair."
   ]
  },
  {
   "cell_type": "code",
   "execution_count": 8,
   "id": "5245c62d",
   "metadata": {},
   "outputs": [],
   "source": [
    "json = {}\n",
    "for i in dataset['deck'].unique():\n",
    "    json[i] = dataset[dataset['deck'] == i]['fare'].mean()\n",
    "        \n",
    "json = list(sorted(json.items(), key=lambda x: x[1])) # Превратил словарь в отсортированный массив"
   ]
  },
  {
   "cell_type": "markdown",
   "id": "26004f94",
   "metadata": {},
   "source": [
    "Теперь по значению в столбце fair я буду определять значение для столбца deck, где они неизвестны"
   ]
  },
  {
   "cell_type": "code",
   "execution_count": 9,
   "id": "c9c13d61",
   "metadata": {},
   "outputs": [],
   "source": [
    "for i in range(N):\n",
    "    if pd.isnull(dataset['deck'][i]):\n",
    "        flag = False\n",
    "        fare = dataset['fare'][i]\n",
    "        for j in range(len(json)):\n",
    "            item, c = json[j]\n",
    "            if c > fare:\n",
    "                flag = True\n",
    "                break\n",
    "        if not flag:\n",
    "            item = json[-1][0]\n",
    "        else:\n",
    "            if j > 0: \n",
    "                item1, c1 = item, c\n",
    "                item2, c2 = json[j - 1]\n",
    "                if abs(c1 - fare) > abs(c2 - fare):\n",
    "                    item = item2\n",
    "                else:\n",
    "                    item = item1\n",
    "            else:\n",
    "                item = json[0][0]\n",
    "        dataset['deck'][i] = item"
   ]
  },
  {
   "cell_type": "markdown",
   "id": "7c968e56",
   "metadata": {},
   "source": [
    "### 3 & 4. embark_town & embarked."
   ]
  },
  {
   "cell_type": "markdown",
   "id": "e937fc42",
   "metadata": {},
   "source": [
    "Так как пропущенных значений в этих столбцах всего по 2, я заполню пропущенные ячейки рандомными значениями из соответствующих столбцов"
   ]
  },
  {
   "cell_type": "code",
   "execution_count": 10,
   "id": "f631eca4",
   "metadata": {},
   "outputs": [],
   "source": [
    "for i in ['embark_town', 'embarked']:\n",
    "    for j in range(N):\n",
    "        if pd.isnull(dataset[i][j]):\n",
    "            dataset[i][j] = np.random.choice(dataset[i])"
   ]
  },
  {
   "cell_type": "code",
   "execution_count": 11,
   "id": "167b6a24",
   "metadata": {},
   "outputs": [
    {
     "name": "stdout",
     "output_type": "stream",
     "text": [
      "<class 'pandas.core.frame.DataFrame'>\n",
      "RangeIndex: 891 entries, 0 to 890\n",
      "Data columns (total 15 columns):\n",
      " #   Column       Non-Null Count  Dtype  \n",
      "---  ------       --------------  -----  \n",
      " 0   survived     891 non-null    int64  \n",
      " 1   pclass       891 non-null    int64  \n",
      " 2   sex          891 non-null    object \n",
      " 3   age          891 non-null    float64\n",
      " 4   sibsp        891 non-null    int64  \n",
      " 5   parch        891 non-null    int64  \n",
      " 6   fare         891 non-null    float64\n",
      " 7   embarked     891 non-null    object \n",
      " 8   class        891 non-null    object \n",
      " 9   who          891 non-null    object \n",
      " 10  adult_male   891 non-null    bool   \n",
      " 11  deck         891 non-null    object \n",
      " 12  embark_town  891 non-null    object \n",
      " 13  alive        891 non-null    object \n",
      " 14  alone        891 non-null    bool   \n",
      "dtypes: bool(2), float64(2), int64(4), object(7)\n",
      "memory usage: 92.4+ KB\n"
     ]
    }
   ],
   "source": [
    "dataset.info() # Все столбцы полностью заполнены !!!"
   ]
  },
  {
   "cell_type": "markdown",
   "id": "ba124557",
   "metadata": {},
   "source": [
    "## Задание №3."
   ]
  },
  {
   "cell_type": "code",
   "execution_count": 12,
   "id": "19ea1c83",
   "metadata": {},
   "outputs": [
    {
     "name": "stdout",
     "output_type": "stream",
     "text": [
      "Мужчин - 577.\n",
      "Женщин - 314.\n",
      "Процент мужчин равен 64%.\n"
     ]
    }
   ],
   "source": [
    "n_man = len(dataset[dataset['sex'] == 'male']) # Количество людей мужского пола\n",
    "n_woman = N - n_man # Количество людей женского пола\n",
    "print(f'Мужчин - {n_man}.\\nЖенщин - {n_woman}.\\nПроцент мужчин равен {int(n_man / N * 100)}%.')"
   ]
  },
  {
   "cell_type": "code",
   "execution_count": 13,
   "id": "f749ac48",
   "metadata": {},
   "outputs": [
    {
     "name": "stdout",
     "output_type": "stream",
     "text": [
      "Взрослых мужчин - 537.\n",
      "Их процент от общего числа пассижиров - 60%.\n"
     ]
    }
   ],
   "source": [
    "n_adult_man = len(dataset[dataset['adult_male'] == True])\n",
    "\n",
    "print(f'Взрослых мужчин - {n_adult_man}.')\n",
    "print(f'Их процент от общего числа пассижиров - {int(n_adult_man / N * 100)}%.')"
   ]
  },
  {
   "cell_type": "code",
   "execution_count": 14,
   "id": "e6b4eef3",
   "metadata": {},
   "outputs": [
    {
     "name": "stdout",
     "output_type": "stream",
     "text": [
      "В классе Third ровно 491 людей.\n",
      "В классе First ровно 216 людей.\n",
      "В классе Second ровно 184 людей.\n"
     ]
    }
   ],
   "source": [
    "for titanic_class in dataset['class'].unique():\n",
    "    print(f'В классе {titanic_class} ровно {len(dataset[dataset[\"class\"] == titanic_class])} людей.')"
   ]
  },
  {
   "cell_type": "markdown",
   "id": "5c0349d6",
   "metadata": {},
   "source": [
    "## Задание №4."
   ]
  },
  {
   "cell_type": "code",
   "execution_count": 15,
   "id": "51bc8e04",
   "metadata": {},
   "outputs": [
    {
     "data": {
      "text/html": [
       "<div>\n",
       "<style scoped>\n",
       "    .dataframe tbody tr th:only-of-type {\n",
       "        vertical-align: middle;\n",
       "    }\n",
       "\n",
       "    .dataframe tbody tr th {\n",
       "        vertical-align: top;\n",
       "    }\n",
       "\n",
       "    .dataframe thead th {\n",
       "        text-align: right;\n",
       "    }\n",
       "</style>\n",
       "<table border=\"1\" class=\"dataframe\">\n",
       "  <thead>\n",
       "    <tr style=\"text-align: right;\">\n",
       "      <th></th>\n",
       "      <th>survived</th>\n",
       "      <th>pclass</th>\n",
       "      <th>age</th>\n",
       "      <th>sibsp</th>\n",
       "      <th>parch</th>\n",
       "      <th>fare</th>\n",
       "    </tr>\n",
       "  </thead>\n",
       "  <tbody>\n",
       "    <tr>\n",
       "      <th>count</th>\n",
       "      <td>891.000000</td>\n",
       "      <td>891.000000</td>\n",
       "      <td>891.000000</td>\n",
       "      <td>891.000000</td>\n",
       "      <td>891.000000</td>\n",
       "      <td>891.000000</td>\n",
       "    </tr>\n",
       "    <tr>\n",
       "      <th>mean</th>\n",
       "      <td>0.383838</td>\n",
       "      <td>2.308642</td>\n",
       "      <td>29.687059</td>\n",
       "      <td>0.523008</td>\n",
       "      <td>0.381594</td>\n",
       "      <td>32.204208</td>\n",
       "    </tr>\n",
       "    <tr>\n",
       "      <th>std</th>\n",
       "      <td>0.486592</td>\n",
       "      <td>0.836071</td>\n",
       "      <td>13.021849</td>\n",
       "      <td>1.102743</td>\n",
       "      <td>0.806057</td>\n",
       "      <td>49.693429</td>\n",
       "    </tr>\n",
       "    <tr>\n",
       "      <th>min</th>\n",
       "      <td>0.000000</td>\n",
       "      <td>1.000000</td>\n",
       "      <td>0.420000</td>\n",
       "      <td>0.000000</td>\n",
       "      <td>0.000000</td>\n",
       "      <td>0.000000</td>\n",
       "    </tr>\n",
       "    <tr>\n",
       "      <th>10%</th>\n",
       "      <td>0.000000</td>\n",
       "      <td>1.000000</td>\n",
       "      <td>16.000000</td>\n",
       "      <td>0.000000</td>\n",
       "      <td>0.000000</td>\n",
       "      <td>7.550000</td>\n",
       "    </tr>\n",
       "    <tr>\n",
       "      <th>25%</th>\n",
       "      <td>0.000000</td>\n",
       "      <td>2.000000</td>\n",
       "      <td>22.000000</td>\n",
       "      <td>0.000000</td>\n",
       "      <td>0.000000</td>\n",
       "      <td>7.910400</td>\n",
       "    </tr>\n",
       "    <tr>\n",
       "      <th>50%</th>\n",
       "      <td>0.000000</td>\n",
       "      <td>3.000000</td>\n",
       "      <td>29.000000</td>\n",
       "      <td>0.000000</td>\n",
       "      <td>0.000000</td>\n",
       "      <td>14.454200</td>\n",
       "    </tr>\n",
       "    <tr>\n",
       "      <th>75%</th>\n",
       "      <td>1.000000</td>\n",
       "      <td>3.000000</td>\n",
       "      <td>35.000000</td>\n",
       "      <td>1.000000</td>\n",
       "      <td>0.000000</td>\n",
       "      <td>31.000000</td>\n",
       "    </tr>\n",
       "    <tr>\n",
       "      <th>80%</th>\n",
       "      <td>1.000000</td>\n",
       "      <td>3.000000</td>\n",
       "      <td>38.000000</td>\n",
       "      <td>1.000000</td>\n",
       "      <td>1.000000</td>\n",
       "      <td>39.687500</td>\n",
       "    </tr>\n",
       "    <tr>\n",
       "      <th>90%</th>\n",
       "      <td>1.000000</td>\n",
       "      <td>3.000000</td>\n",
       "      <td>47.000000</td>\n",
       "      <td>1.000000</td>\n",
       "      <td>2.000000</td>\n",
       "      <td>77.958300</td>\n",
       "    </tr>\n",
       "    <tr>\n",
       "      <th>max</th>\n",
       "      <td>1.000000</td>\n",
       "      <td>3.000000</td>\n",
       "      <td>80.000000</td>\n",
       "      <td>8.000000</td>\n",
       "      <td>6.000000</td>\n",
       "      <td>512.329200</td>\n",
       "    </tr>\n",
       "  </tbody>\n",
       "</table>\n",
       "</div>"
      ],
      "text/plain": [
       "         survived      pclass         age       sibsp       parch        fare\n",
       "count  891.000000  891.000000  891.000000  891.000000  891.000000  891.000000\n",
       "mean     0.383838    2.308642   29.687059    0.523008    0.381594   32.204208\n",
       "std      0.486592    0.836071   13.021849    1.102743    0.806057   49.693429\n",
       "min      0.000000    1.000000    0.420000    0.000000    0.000000    0.000000\n",
       "10%      0.000000    1.000000   16.000000    0.000000    0.000000    7.550000\n",
       "25%      0.000000    2.000000   22.000000    0.000000    0.000000    7.910400\n",
       "50%      0.000000    3.000000   29.000000    0.000000    0.000000   14.454200\n",
       "75%      1.000000    3.000000   35.000000    1.000000    0.000000   31.000000\n",
       "80%      1.000000    3.000000   38.000000    1.000000    1.000000   39.687500\n",
       "90%      1.000000    3.000000   47.000000    1.000000    2.000000   77.958300\n",
       "max      1.000000    3.000000   80.000000    8.000000    6.000000  512.329200"
      ]
     },
     "execution_count": 15,
     "metadata": {},
     "output_type": "execute_result"
    }
   ],
   "source": [
    "dataset.describe(percentiles=[0.1, 0.25, 0.5, 0.75, 0.8, 0.9])"
   ]
  },
  {
   "cell_type": "markdown",
   "id": "f9c50ace",
   "metadata": {},
   "source": [
    "1) Так как нормальное отклонение в fare достаточно большое (выше среднего арифметического) из этого следует, что разброс по ценам достаточно большой, но посмотрев на график (отсортированный массив fare) (представлен ниже) можно понять, что большой разброс идет при больших значениях, а большинство пассажиров купило билет стоимостью в диапозоне от 0 до 50 (также это можно увидеть в процентных строчках)\n",
    "\n",
    "2) Можно увидеть, что людей младше 50 лет не меньше 90%, также нормальное отклонение более чем в 2 раза меньше чем среднее арифметическое, а значит возраст в среднем не сильно отклоняется от среднего. Я также на графике представил распределние возрастов, на нем отчетливо видно, что людей младше 16 (примерно) и также людей страше 50 существенно меньше чем людей промежуточных возрастов, что логично.\n",
    "\n",
    "(также есть еще пара графиков на которых представлена зависимость количества пассажиров от их возраста или цены билета)"
   ]
  },
  {
   "cell_type": "code",
   "execution_count": 18,
   "id": "af65801d",
   "metadata": {},
   "outputs": [
    {
     "data": {
      "image/png": "[encoded data removed]",
      "text/plain": [
       "<Figure size 432x288 with 2 Axes>"
      ]
     },
     "metadata": {
      "needs_background": "light"
     },
     "output_type": "display_data"
    }
   ],
   "source": [
    "fare = list(sorted(dataset['fare']))\n",
    "age = list(sorted(dataset['age']))\n",
    "x = list(range(N))\n",
    "\n",
    "fig, axs = plt.subplots(2, 1)\n",
    "\n",
    "axs[0].plot(x, fare)\n",
    "axs[0].set_ylabel('fare')\n",
    "axs[0].grid(True)\n",
    "\n",
    "axs[1].plot(x, age)\n",
    "axs[1].set_ylabel('age')\n",
    "axs[1].grid(True)"
   ]
  },
  {
   "cell_type": "code",
   "execution_count": 19,
   "id": "a7d44078",
   "metadata": {},
   "outputs": [
    {
     "data": {
      "image/png": "[encoded data removed]",
      "text/plain": [
       "<Figure size 432x288 with 2 Axes>"
      ]
     },
     "metadata": {
      "needs_background": "light"
     },
     "output_type": "display_data"
    }
   ],
   "source": [
    "def get_stat(delta, col_name):\n",
    "    column = dataset[col_name]\n",
    "    x = []\n",
    "    y = []\n",
    "    for i in np.arange(min(column) + delta, max(column) - delta, 2 * delta):\n",
    "        x.append(i)\n",
    "        y.append(len(dataset[(dataset[col_name] >= i - delta) & (dataset[col_name] < i + delta)]))\n",
    "    \n",
    "    return x, y\n",
    "\n",
    "fig, axs = plt.subplots(2, 1)\n",
    "\n",
    "axs[0].plot(*get_stat(5, 'fare'))\n",
    "axs[0].set_ylabel('fare')\n",
    "axs[0].grid(True)\n",
    "\n",
    "axs[1].plot(*get_stat(1, 'age'))\n",
    "axs[1].set_ylabel('age')\n",
    "axs[1].grid(True)"
   ]
  },
  {
   "cell_type": "markdown",
   "id": "3a57f47f",
   "metadata": {},
   "source": [
    "## Задание №5."
   ]
  },
  {
   "cell_type": "code",
   "execution_count": 20,
   "id": "d3d57621",
   "metadata": {},
   "outputs": [],
   "source": [
    "alive_ds = dataset.copy() # Создание копии основного датасета"
   ]
  },
  {
   "cell_type": "code",
   "execution_count": 21,
   "id": "4cd42fbb",
   "metadata": {},
   "outputs": [],
   "source": [
    "alive_ds = alive_ds.loc[alive_ds['alive'] == 'yes'] # удаление строчек с теми пассажирами, которые не выжили\n",
    "# alive_ds.drop(columns = ['alive'],axis = 1) # Удаление столбца alive зв ненадобностью (все значения в нем равны \"yes\")"
   ]
  },
  {
   "cell_type": "code",
   "execution_count": 22,
   "id": "40374ae2",
   "metadata": {},
   "outputs": [
    {
     "data": {
      "text/plain": [
       "0"
      ]
     },
     "execution_count": 22,
     "metadata": {},
     "output_type": "execute_result"
    }
   ],
   "source": [
    "len(alive_ds[alive_ds['alive'] == 'no']) # Проверка"
   ]
  },
  {
   "cell_type": "code",
   "execution_count": 23,
   "id": "de3ecf17",
   "metadata": {},
   "outputs": [
    {
     "name": "stdout",
     "output_type": "stream",
     "text": [
      "Всего выживших - 342.\n"
     ]
    }
   ],
   "source": [
    "alive_n = len(alive_ds)\n",
    "print(f'Всего выживших - {alive_n}.')"
   ]
  },
  {
   "cell_type": "code",
   "execution_count": 24,
   "id": "097f4938",
   "metadata": {},
   "outputs": [
    {
     "name": "stdout",
     "output_type": "stream",
     "text": [
      "Мужчин - 109.\n",
      "Женщин - 233.\n",
      "Процент мужчин теперь равен 31%.\n",
      "Процент взрослых мужчин теперь равен 25%\n"
     ]
    }
   ],
   "source": [
    "n_man = len(alive_ds[alive_ds['sex'] == 'male']) # Количество людей мужского пола\n",
    "n_adult_man = len(alive_ds[alive_ds['adult_male'] == True])\n",
    "n_woman = alive_n - n_man # Количество людей женского пола\n",
    "print(f'Мужчин - {n_man}.\\nЖенщин - {n_woman}.\\nПроцент мужчин теперь равен {int(n_man / alive_n * 100)}%.'\n",
    "      f'\\nПроцент взрослых мужчин теперь равен {int(n_adult_man / alive_n * 100)}%')"
   ]
  },
  {
   "cell_type": "markdown",
   "id": "ce8f88b3",
   "metadata": {},
   "source": [
    "Как видно, процент мужчин среди всех пассажиров уменьшился более чем в 2 раза"
   ]
  },
  {
   "cell_type": "code",
   "execution_count": 25,
   "id": "2425d67e",
   "metadata": {},
   "outputs": [
    {
     "data": {
      "text/plain": [
       "[<matplotlib.lines.Line2D at 0x7fddd01b5b80>]"
      ]
     },
     "execution_count": 25,
     "metadata": {},
     "output_type": "execute_result"
    },
    {
     "data": {
      "image/png": "[encoded data removed]",
      "text/plain": [
       "<Figure size 432x288 with 1 Axes>"
      ]
     },
     "metadata": {
      "needs_background": "light"
     },
     "output_type": "display_data"
    }
   ],
   "source": [
    "# Строю график смертности людей в зависимости от возраста (по x возраст из alive_ds, по y разница между количеством\n",
    "# людей которые были и кторые выжили).\n",
    "zn = list(sorted(alive_ds['age'].unique()))\n",
    "res = []\n",
    "res_2 = []\n",
    "for i in zn:\n",
    "    element_1 = len(alive_ds[alive_ds['age'] == i])\n",
    "    element_2 = len(dataset[dataset['age'] == i])\n",
    "    res.append(element_2 - element_1)\n",
    "    res_2.append(100 * (element_1 / element_2))\n",
    " \n",
    "plt.plot(zn, res_2)\n",
    "plt.plot(zn, res)"
   ]
  },
  {
   "cell_type": "code",
   "execution_count": 26,
   "id": "623aab24",
   "metadata": {},
   "outputs": [
    {
     "data": {
      "text/plain": [
       "[<matplotlib.lines.Line2D at 0x7fddb31c8310>]"
      ]
     },
     "execution_count": 26,
     "metadata": {},
     "output_type": "execute_result"
    },
    {
     "data": {
      "image/png": "[encoded data removed]",
      "text/plain": [
       "<Figure size 432x288 with 1 Axes>"
      ]
     },
     "metadata": {
      "needs_background": "light"
     },
     "output_type": "display_data"
    }
   ],
   "source": [
    "# Строю график смертности людей в зависимиости от того сколько они отдали за билет.\n",
    "delta = 6\n",
    "zn = list(range(delta, 512, 2 * delta))\n",
    "res = []\n",
    "for i in zn:\n",
    "    element_1 = len(alive_ds[(i - delta <= alive_ds['fare']) & (alive_ds['fare'] < i + delta)])\n",
    "    element_2 = len(dataset[(i - delta <= dataset['fare']) & (dataset['fare'] < i + delta)])\n",
    "    res.append(element_2 - element_1)\n",
    "    \n",
    "plt.plot(zn, res)"
   ]
  },
  {
   "cell_type": "code",
   "execution_count": 27,
   "id": "a47cebd6",
   "metadata": {},
   "outputs": [
    {
     "data": {
      "text/plain": [
       "(0.5056497175141242, 0.30353817504655495)"
      ]
     },
     "execution_count": 27,
     "metadata": {},
     "output_type": "execute_result"
    }
   ],
   "source": [
    "not_alone_dataset = len(dataset[dataset['alone'] == False])\n",
    "alone_dataset = N - not_alone_dataset\n",
    "not_alone_alive = len(alive_ds[alive_ds['alone'] == False])\n",
    "alone_alive = alive_n - not_alone_alive\n",
    "not_alone_alive / not_alone_dataset, alone_alive / alone_dataset"
   ]
  },
  {
   "cell_type": "raw",
   "id": "6c1a2f5a",
   "metadata": {},
   "source": [
    "Проанализировав те столбцы, где значения это float, я сделал вывод, что:\n",
    "1. Построив график на основе столбца age, я понял, что процент смертности увеличивает с отхождением возраста от среднего значения,\n",
    "    а колличество умерших, наоборот умеьшается\n",
    "2. Построив график на основе столбца fare, я понял, что колличество смертей уменьшается с увелечением стоимости билета (при чем резко)\n",
    "3. 50% тех, кто были не одни (alone = False) остались живыми и 30% тех, кто был один (alone = True) остались живыми\n",
    "\n",
    "Вывод:\n",
    "    Вероятность остаться в живых у человека на титанике сильно зависила от таких признаков как:\n",
    "        1. Пол (женский > мужской)\n",
    "        2. Цена билета (дорогой > дешевый)\n",
    "        3. Возраст (средний возраст +- a > средний возраст +- b, где a < b)\n",
    "        4. Был человек один или нет (не один > один)"
   ]
  }
 ],
 "metadata": {
  "kernelspec": {
   "display_name": "Python 3 (ipykernel)",
   "language": "python",
   "name": "python3"
  },
  "language_info": {
   "codemirror_mode": {
    "name": "ipython",
    "version": 3
   },
   "file_extension": ".py",
   "mimetype": "text/x-python",
   "name": "python",
   "nbconvert_exporter": "python",
   "pygments_lexer": "ipython3",
   "version": "3.9.7"
  }
 },
 "nbformat": 4,
 "nbformat_minor": 5
}
